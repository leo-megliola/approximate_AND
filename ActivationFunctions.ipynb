{
  "nbformat": 4,
  "nbformat_minor": 0,
  "metadata": {
    "colab": {
      "provenance": []
    },
    "kernelspec": {
      "name": "python3",
      "display_name": "Python 3"
    }
  },
  "cells": [
    {
      "cell_type": "markdown",
      "metadata": {
        "id": "d4layotITK6v"
      },
      "source": [
        "####plotting functions\n",
        "\n",
        "You can use numpy to generate values for the x-axis"
      ]
    },
    {
      "cell_type": "code",
      "metadata": {
        "id": "EUo6d1FpTVXv",
        "colab": {
          "base_uri": "https://localhost:8080/"
        },
        "outputId": "fbcfb69f-8fd9-4b47-9765-5c22dbc3e458"
      },
      "source": [
        "import numpy as np\n",
        "\n",
        "# here are X values from -5 to 5, divided in 101 intervals\n",
        "# I like using an odd number so that zero is in the middle :)\n",
        "X = np.linspace(-5,5,101)\n",
        "\n",
        "print(X)"
      ],
      "execution_count": 1,
      "outputs": [
        {
          "output_type": "stream",
          "name": "stdout",
          "text": [
            "[-5.  -4.9 -4.8 -4.7 -4.6 -4.5 -4.4 -4.3 -4.2 -4.1 -4.  -3.9 -3.8 -3.7\n",
            " -3.6 -3.5 -3.4 -3.3 -3.2 -3.1 -3.  -2.9 -2.8 -2.7 -2.6 -2.5 -2.4 -2.3\n",
            " -2.2 -2.1 -2.  -1.9 -1.8 -1.7 -1.6 -1.5 -1.4 -1.3 -1.2 -1.1 -1.  -0.9\n",
            " -0.8 -0.7 -0.6 -0.5 -0.4 -0.3 -0.2 -0.1  0.   0.1  0.2  0.3  0.4  0.5\n",
            "  0.6  0.7  0.8  0.9  1.   1.1  1.2  1.3  1.4  1.5  1.6  1.7  1.8  1.9\n",
            "  2.   2.1  2.2  2.3  2.4  2.5  2.6  2.7  2.8  2.9  3.   3.1  3.2  3.3\n",
            "  3.4  3.5  3.6  3.7  3.8  3.9  4.   4.1  4.2  4.3  4.4  4.5  4.6  4.7\n",
            "  4.8  4.9  5. ]\n"
          ]
        }
      ]
    },
    {
      "cell_type": "code",
      "metadata": {
        "id": "q1AZPYnuSNaY",
        "colab": {
          "base_uri": "https://localhost:8080/",
          "height": 298
        },
        "outputId": "2fd62750-17f9-4bc5-9adc-a522af1b1228"
      },
      "source": [
        "import numpy as np\n",
        "import matplotlib.pyplot as plt\n",
        "\n",
        "'''\n",
        "Define activation function and first derivative\n",
        "'''\n",
        "def sigmoid(x):\n",
        "  return 1/(1+np.exp(-x))\n",
        "\n",
        "def sigmoid_prime(sig):\n",
        "  return sig*(1-sig)\n",
        "\n",
        "\n",
        "'''\n",
        "Calculate activation function and first derivative\n",
        "over interval from (-5,5)\n",
        "'''\n",
        "X = np.linspace(-5,5,100)\n",
        "y_sig = [sigmoid(x) for x in X]\n",
        "y_sig_prime = [sigmoid_prime(x) for x in y_sig]\n",
        "\n",
        "\n",
        "'''\n",
        "Plot the results (on the same graph)\n",
        "'''\n",
        "plt.title('activation function + first derivative')\n",
        "plt.plot(y_sig)\n",
        "plt.plot(y_sig_prime)"
      ],
      "execution_count": 2,
      "outputs": [
        {
          "output_type": "execute_result",
          "data": {
            "text/plain": [
              "[<matplotlib.lines.Line2D at 0x7fbeb8337c70>]"
            ]
          },
          "metadata": {},
          "execution_count": 2
        },
        {
          "output_type": "display_data",
          "data": {
            "text/plain": [
              "<Figure size 432x288 with 1 Axes>"
            ],
            "image/png": "[encoded data removed]"
          },
          "metadata": {
            "needs_background": "light"
          }
        }
      ]
    },
    {
      "cell_type": "markdown",
      "metadata": {
        "id": "q_gAZnVnTy94"
      },
      "source": [
        "#### plotting a function\n",
        "\n",
        "Here is how to use the X values to plot $f(x)=x^2$"
      ]
    },
    {
      "cell_type": "markdown",
      "metadata": {
        "id": "1VIjJFx3Vg5V"
      },
      "source": [
        "####plotting an activation function and its first derivative"
      ]
    },
    {
      "cell_type": "code",
      "metadata": {
        "id": "Ljm4ApriTwgY",
        "outputId": "da8f6cad-3214-47c7-f1b4-3d7a5e8c3b02",
        "colab": {
          "base_uri": "https://localhost:8080/",
          "height": 282
        }
      },
      "source": [
        "import numpy as np\n",
        "import matplotlib.pyplot as plt\n",
        "\n",
        "X = np.linspace(-5,5,101)\n",
        "\n",
        "# note: x and X are different!\n",
        "# X is the list of values from -5 to 5\n",
        "# x is each entry in that list...\n",
        "Y = [x**2 for x in X]\n",
        "\n",
        "plt.plot(Y)"
      ],
      "execution_count": 3,
      "outputs": [
        {
          "output_type": "execute_result",
          "data": {
            "text/plain": [
              "[<matplotlib.lines.Line2D at 0x7fbeb81e3d00>]"
            ]
          },
          "metadata": {},
          "execution_count": 3
        },
        {
          "output_type": "display_data",
          "data": {
            "text/plain": [
              "<Figure size 432x288 with 1 Axes>"
            ],
            "image/png": "[encoded data removed]"
          },
          "metadata": {
            "needs_background": "light"
          }
        }
      ]
    },
    {
      "cell_type": "markdown",
      "metadata": {
        "id": "_ZrquHlLVO4c"
      },
      "source": [
        "####make your own function, using the code sample above as a guide:"
      ]
    }
  ]
}