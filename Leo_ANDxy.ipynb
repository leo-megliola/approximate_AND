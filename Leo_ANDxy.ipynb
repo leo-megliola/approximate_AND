{
  "nbformat": 4,
  "nbformat_minor": 0,
  "metadata": {
    "colab": {
      "provenance": []
    },
    "kernelspec": {
      "name": "python3",
      "display_name": "Python 3"
    }
  },
  "cells": [
    {
      "metadata": {
        "id": "FwaLgANSurbO",
        "outputId": "6e1967f2-f851-4257-855f-b4a9cd1e5920",
        "colab": {
          "base_uri": "https://localhost:8080/"
        }
      },
      "cell_type": "code",
      "source": [
        "import numpy as np\n",
        "\n",
        "def sigmoid(x):\n",
        "  return 1/(1+np.exp(-x))\n",
        "\n",
        "def f(a,b):\n",
        "  return a and b\n",
        "\n",
        "print(sigmoid(0))\n",
        "print(f(0,0))\n",
        "print(f(1,1))\n",
        "print(f(0,1))\n",
        "print(f(1,0))"
      ],
      "execution_count": null,
      "outputs": [
        {
          "output_type": "stream",
          "name": "stdout",
          "text": [
            "0.5\n",
            "0\n",
            "1\n",
            "0\n",
            "0\n"
          ]
        }
      ]
    },
    {
      "metadata": {
        "id": "KqKScBabvi_a",
        "outputId": "79679c73-2377-41f6-c642-33ea333150f7",
        "colab": {
          "base_uri": "https://localhost:8080/"
        }
      },
      "cell_type": "code",
      "source": [
        "import numpy as np\n",
        "\n",
        "b = 1 #bias (not used this cell)\n",
        "\n",
        "x = np.random.randint(2)\n",
        "y = np.random.randint(2)\n",
        "\n",
        "print(x, '---', y, '--->', f(x,y))"
      ],
      "execution_count": null,
      "outputs": [
        {
          "output_type": "stream",
          "name": "stdout",
          "text": [
            "1 --- 0 ---> 0\n"
          ]
        }
      ]
    },
    {
      "metadata": {
        "id": "RDD-pBqKwMd5",
        "outputId": "590ae48c-0304-41df-df00-1abee4c3f73d",
        "colab": {
          "base_uri": "https://localhost:8080/"
        }
      },
      "cell_type": "code",
      "source": [
        "wx = np.random.random()*2-1\n",
        "wy = np.random.random()*2-1\n",
        "wb = np.random.random()*2-1\n",
        "\n",
        "for n in range(100000):\n",
        "  x = np.random.randint(2)\n",
        "  y = np.random.randint(2)\n",
        "  weighted_input = (x*wx)+(y*wy)+(b*wb)\n",
        "  guess = sigmoid(weighted_input)\n",
        "  error = (guess-f(x,y))**2\n",
        "  \n",
        "  ### application of the chain rule starts here ################################\n",
        "  #\n",
        "  # Note that derror/dguess is:  2 * (guess-f(x,y))\n",
        "  #           dguess/dinput is:  sigmoid(input) * (1-sigmoid(input))\n",
        "  #           dinput/dweight is: x, y, b (for wx, wy, wb)\n",
        "  #\n",
        "  deds = 2*(guess-f(x,y))*(sigmoid(weighted_input)*(1-sigmoid(weighted_input)))\n",
        "  dwxde = deds*x\n",
        "  dwyde = deds*y\n",
        "  dwbde = deds*1\n",
        "  ### and ends here ############################################################\n",
        "  \n",
        "  wx -= .01*dwxde\n",
        "  wy -= .01*dwyde\n",
        "  wb -= .01*dwbde\n",
        "print(wx, '---', wy, '---', wb)\n",
        "print('input(1, 1): ', sigmoid((1*wx)+(1*wy)+(1*wb)))\n",
        "print('input(1, 0): ', sigmoid((1*wx)+(0*wy)+(1*wb)))\n",
        "print('input(0, 1): ', sigmoid((0*wx)+(1*wy)+(1*wb)))\n",
        "print('input(0, 0): ', sigmoid((0*wx)+(0*wy)+(1*wb)))"
      ],
      "execution_count": null,
      "outputs": [
        {
          "output_type": "stream",
          "name": "stdout",
          "text": [
            "4.658907748390027 --- 4.641641051924831 --- -7.072499714352695\n",
            "input(1, 1):  0.9027402026526113\n",
            "input(1, 0):  0.08214209587888932\n",
            "input(0, 1):  0.08084963448925586\n",
            "input(0, 0):  0.0008473917416511116\n"
          ]
        }
      ]
    },
    {
      "metadata": {
        "id": "uY8HaLQVeK5B"
      },
      "cell_type": "markdown",
      "source": [
        "\n",
        "\n",
        "---\n",
        "\n",
        "\n",
        "**Linear Algebra**\n",
        "\n",
        "Rewriting the example, above, in matrix form.\n",
        "\n",
        "What is a more compact form for $(x*wx)+(y*wy)+(b*wb)$ ?\n"
      ]
    },
    {
      "metadata": {
        "id": "hFChawMUg6GJ"
      },
      "cell_type": "markdown",
      "source": [
        "**Step 1.** \n",
        "\n",
        "Make a matrix for the inputs (including the bias, which is always equal to 1):\n",
        "\n",
        "$X=\\begin{bmatrix}x \\\\y\\\\1\\end{bmatrix}$"
      ]
    },
    {
      "metadata": {
        "id": "Z7ksQDhheTWg",
        "colab": {
          "base_uri": "https://localhost:8080/"
        },
        "outputId": "07cac211-9a9c-4455-f795-5f649e61701e"
      },
      "cell_type": "code",
      "source": [
        "X = [np.random.randint(2),np.random.randint(2),1]\n",
        "print(X)"
      ],
      "execution_count": null,
      "outputs": [
        {
          "output_type": "stream",
          "name": "stdout",
          "text": [
            "[0, 1, 1]\n"
          ]
        }
      ]
    },
    {
      "metadata": {
        "id": "JjroBfZufhso"
      },
      "cell_type": "markdown",
      "source": [
        "**Step 2.**\n",
        "\n",
        "Create a matrix of weights:\n",
        "\n",
        "$w=\\begin{bmatrix}w_x\\\\w_y\\\\w_b\\end{bmatrix}$"
      ]
    },
    {
      "metadata": {
        "id": "1EnBQI0GeR53",
        "colab": {
          "base_uri": "https://localhost:8080/"
        },
        "outputId": "26a8db44-beb0-4361-85f9-147f2c90f76f"
      },
      "cell_type": "code",
      "source": [
        "'''\n",
        "take a closer look! numpy applies operators to each element individually;\n",
        "the one-liner creates a 3-element array of random numbers from [-1,1).\n",
        "'''\n",
        "w = np.random.random(3)*2-1\n",
        "print(w)"
      ],
      "execution_count": null,
      "outputs": [
        {
          "output_type": "stream",
          "name": "stdout",
          "text": [
            "[ 0.26459259 -0.00682397  0.21357913]\n"
          ]
        }
      ]
    },
    {
      "metadata": {
        "id": "9YesxFIWgc85"
      },
      "cell_type": "markdown",
      "source": [
        "**Step 3.**\n",
        "\n",
        "Notice that the weighted sum of the $inputs \\times weights$ is the dot product $X \\bullet w$:"
      ]
    },
    {
      "metadata": {
        "id": "Xnjvt84ngP9w",
        "colab": {
          "base_uri": "https://localhost:8080/"
        },
        "outputId": "ed86c9d4-951e-4d94-a87e-d40d2975a1f9"
      },
      "cell_type": "code",
      "source": [
        "print('the dot product is exactly what I need to do...')\n",
        "print('X =      ',X)\n",
        "print('w =      ',w)\n",
        "print('X dot w =',np.dot(X,w))\n",
        "print('sigmoid =',sigmoid(np.dot(X,w)))"
      ],
      "execution_count": null,
      "outputs": [
        {
          "output_type": "stream",
          "name": "stdout",
          "text": [
            "the dot product is exactly what I need to do...\n",
            "X =       [0, 1, 1]\n",
            "w =       [ 0.26459259 -0.00682397  0.21357913]\n",
            "X dot w = 0.20675515709730652\n",
            "sigmoid = 0.5515054416202427\n"
          ]
        }
      ]
    },
    {
      "metadata": {
        "id": "HvNSdGNpifwU",
        "colab": {
          "base_uri": "https://localhost:8080/"
        },
        "outputId": "3bccffa2-6479-4abf-d28e-a3f6ae7ac2f0"
      },
      "cell_type": "code",
      "source": [
        "w = np.random.random(3)*2-1\n",
        "\n",
        "for n in range(10000):\n",
        "  X = [np.random.randint(2), np.random.randint(2), 1] # third term is bias=1\n",
        "  guess = sigmoid(np.dot(X,w))\n",
        "  deds = 2*(guess-f(X[0],X[1]))*(guess)*(1-guess)\n",
        "  dwde = np.multiply(X,deds)                          # use np to multiply matrix\n",
        "  w -= np.multiply(0.1, dwde)\n",
        " \n",
        "print(w)\n",
        "print('input(1, 1): ', sigmoid(np.dot([1,1,1],w)))\n",
        "print('input(1, 0): ', sigmoid(np.dot([1,0,1],w)))\n",
        "print('input(0, 1): ', sigmoid(np.dot([0,1,1],w)))\n",
        "print('input(0, 0): ', sigmoid(np.dot([0,0,1],w)))"
      ],
      "execution_count": null,
      "outputs": [
        {
          "output_type": "stream",
          "name": "stdout",
          "text": [
            "[ 4.65173945  4.61889323 -7.04322552]\n",
            "input(1, 1):  0.9026838266933053\n",
            "input(1, 0):  0.08382423415293003\n",
            "input(0, 1):  0.08133595733550404\n",
            "input(0, 0):  0.0008725431528753509\n"
          ]
        }
      ]
    }
  ]
}